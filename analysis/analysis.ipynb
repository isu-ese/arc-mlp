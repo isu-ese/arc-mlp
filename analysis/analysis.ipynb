{
 "cells": [
  {
   "cell_type": "markdown",
   "metadata": {},
   "source": [
    "# Analysis"
   ]
  },
  {
   "cell_type": "code",
   "execution_count": 1,
   "metadata": {},
   "outputs": [],
   "source": [
    "import numpy as np\n",
    "import matplotlib\n",
    "import matplotlib.pyplot as plt\n",
    "import pandas as pd\n",
    "import sklearn\n",
    "import itertools\n",
    "import random"
   ]
  },
  {
   "cell_type": "code",
   "execution_count": 2,
   "metadata": {},
   "outputs": [
    {
     "data": {
      "text/html": [
       "<div>\n",
       "<style scoped>\n",
       "    .dataframe tbody tr th:only-of-type {\n",
       "        vertical-align: middle;\n",
       "    }\n",
       "\n",
       "    .dataframe tbody tr th {\n",
       "        vertical-align: top;\n",
       "    }\n",
       "\n",
       "    .dataframe thead th {\n",
       "        text-align: right;\n",
       "    }\n",
       "</style>\n",
       "<table border=\"1\" class=\"dataframe\">\n",
       "  <thead>\n",
       "    <tr style=\"text-align: right;\">\n",
       "      <th></th>\n",
       "      <th>name</th>\n",
       "      <th>files</th>\n",
       "    </tr>\n",
       "  </thead>\n",
       "  <tbody>\n",
       "    <tr>\n",
       "      <th>0</th>\n",
       "      <td>abnf</td>\n",
       "      <td>./abnf/Abnf.g4</td>\n",
       "    </tr>\n",
       "    <tr>\n",
       "      <th>1</th>\n",
       "      <td>agc</td>\n",
       "      <td>./agc/agc.g4</td>\n",
       "    </tr>\n",
       "    <tr>\n",
       "      <th>2</th>\n",
       "      <td>algol60</td>\n",
       "      <td>./algol60/algol60.g4</td>\n",
       "    </tr>\n",
       "    <tr>\n",
       "      <th>3</th>\n",
       "      <td>antlr3</td>\n",
       "      <td>./antlr3/ANTLRv3.g4</td>\n",
       "    </tr>\n",
       "    <tr>\n",
       "      <th>4</th>\n",
       "      <td>antlr4</td>\n",
       "      <td>./antlr4/ANTLRv4Parser.g4,./antlr4/ANTLRv4Lexe...</td>\n",
       "    </tr>\n",
       "  </tbody>\n",
       "</table>\n",
       "</div>"
      ],
      "text/plain": [
       "      name                                              files\n",
       "0     abnf                                     ./abnf/Abnf.g4\n",
       "1      agc                                       ./agc/agc.g4\n",
       "2  algol60                               ./algol60/algol60.g4\n",
       "3   antlr3                                ./antlr3/ANTLRv3.g4\n",
       "4   antlr4  ./antlr4/ANTLRv4Parser.g4,./antlr4/ANTLRv4Lexe..."
      ]
     },
     "execution_count": 2,
     "metadata": {},
     "output_type": "execute_result"
    }
   ],
   "source": [
    "grammars = pd.read_csv(\"grammars.csv\")\n",
    "grammars.head()"
   ]
  },
  {
   "cell_type": "code",
   "execution_count": 16,
   "metadata": {},
   "outputs": [
    {
     "data": {
      "text/plain": [
       "199"
      ]
     },
     "execution_count": 16,
     "metadata": {},
     "output_type": "execute_result"
    }
   ],
   "source": [
    "grammars = pd.read_csv(\"grammars-with-metrics-1.csv\")\n",
    "grammars.head()\n",
    "len(grammars)"
   ]
  },
  {
   "cell_type": "code",
   "execution_count": 17,
   "metadata": {},
   "outputs": [
    {
     "data": {
      "text/plain": [
       "Text(0.5, 1.0, 'Distribution of grammar sizes')"
      ]
     },
     "execution_count": 17,
     "metadata": {},
     "output_type": "execute_result"
    },
    {
     "data": {
      "image/png": "[encoded data removed]",
      "text/plain": [
       "<Figure size 432x288 with 1 Axes>"
      ]
     },
     "metadata": {
      "needs_background": "light"
     },
     "output_type": "display_data"
    }
   ],
   "source": [
    "def grammar_size_measure(grammars):\n",
    "    return np.log(grammars[\"VAR\"])\n",
    "\n",
    "\n",
    "sizes = grammar_size_measure(grammars)\n",
    "plt.hist(sizes, bins=20)\n",
    "plt.xlabel(\"log(size)\")\n",
    "plt.title(\"Distribution of grammar sizes\")"
   ]
  },
  {
   "cell_type": "code",
   "execution_count": 19,
   "metadata": {},
   "outputs": [],
   "source": [
    "sizes = [\"small\", \"medium\", \"large\"]\n",
    "\n",
    "def partition(grammars):\n",
    "    measures = grammar_size_measure(grammars)\n",
    "    mean = measures.mean()\n",
    "    std_dev = measures.std()\n",
    "    \n",
    "    def label(size):\n",
    "        if size < mean - std_dev:\n",
    "            return \"small\"\n",
    "        elif mean - std_dev <= size < mean + std_dev:\n",
    "            return \"medium\"\n",
    "        else: # mean + std_dev <= size\n",
    "            return \"large\"\n",
    "    \n",
    "    return grammars.assign(size = measures.map(label))\n",
    "\n",
    "labeled = partition(grammars)\n",
    "# uncomment to reproduce file\n",
    "labeled.to_csv(\"grammars-with-size-1.csv\", index=False)"
   ]
  },
  {
   "cell_type": "code",
   "execution_count": 20,
   "metadata": {},
   "outputs": [],
   "source": [
    "grammars_per_size_category = 12\n",
    "\n",
    "grammars_to_examine = [labeled[labeled[\"size\"] == s].sample(grammars_per_size_category) for s in sizes]"
   ]
  },
  {
   "cell_type": "code",
   "execution_count": 11,
   "metadata": {},
   "outputs": [],
   "source": [
    "repetitions = np.arange(5)\n",
    "dependent_variables = [\"MCC\", \"HAL\"]\n",
    "similarity_thresholds = [0.001, 0.25, 0.5, 0.75, 1.0]\n",
    "\n",
    "def generate_experiments(grammars):\n",
    "    pairs = list(itertools.combinations(grammars.index, 2))\n",
    "    to_use = random.sample(pairs, len(similarity_thresholds) * len(repetitions) * len(dependent_variables))\n",
    "    ids1, ids2 = map(list, zip(*to_use))\n",
    "    names1 = grammars[\"name\"].loc[ids1].values.reshape((-1, 1))\n",
    "    names2 = grammars[[\"name\", \"size\"]].loc[ids2]\n",
    "    grammar_pairs = np.hstack((names1, names2))\n",
    "    other_cols = list(itertools.product(repetitions, dependent_variables, similarity_thresholds))\n",
    "    grammar_pairs_plus = np.hstack([grammar_pairs, other_cols])\n",
    "    \n",
    "    return pd.DataFrame(grammar_pairs_plus, columns=[\"name1\", \"name2\", \"size\", \"repetition\", \"dependent_variable\", \"similarity_threshold\"])\n",
    "\n",
    "experiments = pd.concat(map(generate_experiments, grammars_to_examine), ignore_index=True)"
   ]
  },
  {
   "cell_type": "code",
   "execution_count": 15,
   "metadata": {},
   "outputs": [],
   "source": [
    "# uncomment to reproduce file\n",
    "# warning: is randomly generated so it won't be the same\n",
    "experiments.to_csv(\"experiments-1.csv\", index=False)"
   ]
  }
 ],
 "metadata": {
  "kernelspec": {
   "display_name": "Python 3",
   "language": "python",
   "name": "python3"
  },
  "language_info": {
   "codemirror_mode": {
    "name": "ipython",
    "version": 3
   },
   "file_extension": ".py",
   "mimetype": "text/x-python",
   "name": "python",
   "nbconvert_exporter": "python",
   "pygments_lexer": "ipython3",
   "version": "3.7.4"
  }
 },
 "nbformat": 4,
 "nbformat_minor": 4
}
